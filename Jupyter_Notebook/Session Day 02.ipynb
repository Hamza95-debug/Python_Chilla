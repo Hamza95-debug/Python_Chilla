{
 "cells": [
  {
   "cell_type": "code",
   "execution_count": null,
   "id": "a3410c1b",
   "metadata": {},
   "outputs": [],
   "source": [
    "weight=input(\"Enter your weight in kg: \")\n",
    "height=input(\"Enter your height in meters: \")\n",
    "name=input(\"What is your name? \")\n",
    "weight=float(weight)\n",
    "height=float(height)\n",
    "bmi= weight/height**2\n",
    "print(\"My name is \", name, \"My BMI is \", bmi)\n"
   ]
  }
 ],
 "metadata": {
  "kernelspec": {
   "display_name": "Python 3 (ipykernel)",
   "language": "python",
   "name": "python3"
  },
  "language_info": {
   "codemirror_mode": {
    "name": "ipython",
    "version": 3
   },
   "file_extension": ".py",
   "mimetype": "text/x-python",
   "name": "python",
   "nbconvert_exporter": "python",
   "pygments_lexer": "ipython3",
   "version": "3.9.7"
  }
 },
 "nbformat": 4,
 "nbformat_minor": 5
}
